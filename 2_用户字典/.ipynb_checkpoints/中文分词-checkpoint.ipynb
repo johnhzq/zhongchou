{
 "cells": [
  {
   "cell_type": "markdown",
   "metadata": {},
   "source": [
    "## 1、分词"
   ]
  },
  {
   "cell_type": "code",
   "execution_count": 2,
   "metadata": {},
   "outputs": [
    {
     "name": "stdout",
     "output_type": "stream",
     "text": [
      "3.6.3 |Anaconda custom (64-bit)| (default, Oct 15 2017, 03:27:45) [MSC v.1900 64 bit (AMD64)]\n",
      "云计算\n",
      "不\n",
      "是\n",
      "一个\n",
      "屌丝\n",
      "概念\n",
      "，\n",
      "李克强\n",
      "总理\n",
      "提出\n",
      "互联网\n",
      "+\n",
      "的\n",
      "概念\n",
      "，\n",
      "号召\n",
      "万众\n",
      "创新\n",
      "，\n",
      "全民\n",
      "创业\n",
      "。\n"
     ]
    }
   ],
   "source": [
    "import pynlpir\n",
    "import sys\n",
    "print(sys.version)\n",
    "\n",
    "pynlpir.open(encoding=\"utf8\")\n",
    "\n",
    "s = \"云计算不是一个屌丝概念，李克强总理提出互联网+的概念，号召万众创新，全民创业。\"\n",
    "##切词\n",
    "seg_list = pynlpir.segment(s,pos_tagging=False)\n",
    "\n",
    "# seg_list = [\"云\",\"计算\"，“不是”，“一个”……]\n",
    "\n",
    "##把切词结果里的每一个词都打印出来\n",
    "for word in seg_list:\n",
    "    print(word)"
   ]
  },
  {
   "cell_type": "markdown",
   "metadata": {},
   "source": [
    "## 2、添加用户词典"
   ]
  },
  {
   "cell_type": "code",
   "execution_count": 2,
   "metadata": {},
   "outputs": [
    {
     "name": "stdout",
     "output_type": "stream",
     "text": [
      "云计算\n",
      "不\n",
      "是\n",
      "一个\n",
      "屌丝\n",
      "概念\n",
      "，\n",
      "李克强\n",
      "总理\n",
      "提出\n",
      "互联网+\n",
      "的\n",
      "概念\n",
      "，\n",
      "号召\n",
      "万众创新\n",
      "，\n",
      "全民\n",
      "创业\n",
      "。\n"
     ]
    }
   ],
   "source": [
    "import pynlpir\n",
    "\n",
    "pynlpir.open(encoding=\"utf8\")\n",
    "## 导入用户词典\n",
    "pynlpir.nlpir.ImportUserDict(\"dict.txt\")\n",
    "\n",
    "s = \"云计算不是一个屌丝概念，李克强总理提出互联网+的概念，号召万众创新，全民创业。\"\n",
    "##切词\n",
    "seg_list = pynlpir.segment(s,pos_tagging=False)\n",
    "\n",
    "# seg_list = [\"云\",\"计算\"，“不是”，“一个”……]\n",
    "\n",
    "##把切词结果里的每一个词都打印出来\n",
    "for word in seg_list:\n",
    "    print word"
   ]
  },
  {
   "cell_type": "markdown",
   "metadata": {},
   "source": [
    "## 3、按词性提取"
   ]
  },
  {
   "cell_type": "code",
   "execution_count": 8,
   "metadata": {
    "scrolled": true
   },
   "outputs": [
    {
     "name": "stdout",
     "output_type": "stream",
     "text": [
      "云计算 noun\n",
      "是 verb\n",
      "屌丝 noun\n",
      "概念 noun\n",
      "好 adjective\n",
      "李克强 noun\n",
      "总理 noun\n",
      "提出 verb\n",
      "互联网+ noun\n",
      "概念 noun\n",
      "号召 verb\n",
      "万众创新 noun\n",
      "全民 noun\n",
      "创业 verb\n"
     ]
    }
   ],
   "source": [
    "import pynlpir\n",
    "\n",
    "pynlpir.open(encoding=\"utf8\")\n",
    "\n",
    "s = \"云计算不是一个屌丝概念，很好，李克强总理提出互联网+的概念，号召万众创新，全民创业。\"\n",
    "##切词\n",
    "seg_list = pynlpir.segment(s,pos_tagging=True)\n",
    "\n",
    "# seg_list = [(\"云计算\"，noun),(\"不是\",verb)……]\n",
    "\n",
    "## 把切完的每个词和词性打印出来\n",
    "for (word,flag) in seg_list:\n",
    "    ## 判断每个词的词性是否为名词-noun 或者动词-verb或者形容词-adjective\n",
    "    if flag == \"noun\" or flag == \"verb\" or flag == \"adjective\":\n",
    "        print word,flag"
   ]
  },
  {
   "cell_type": "markdown",
   "metadata": {},
   "source": [
    "## 4、关键词提取"
   ]
  },
  {
   "cell_type": "code",
   "execution_count": 9,
   "metadata": {},
   "outputs": [
    {
     "name": "stdout",
     "output_type": "stream",
     "text": [
      "发展 9.35\n",
      "国内生产总值 8.64\n",
      "经济 8.12\n",
      "取得 7.77\n",
      "增长 6.66\n",
      "习近平 6.6\n",
      "我国发展 6.46\n",
      "经济社会 6.46\n",
      "经济运行 6.46\n",
      "全年 6.2\n",
      "居民 6.2\n",
      "就业 6.2\n",
      "人民 4.74\n",
      "达到 4.74\n",
      "攻坚 4.39\n",
      "目标 4.39\n",
      "成就 4.39\n",
      "保持 4.39\n",
      "消费 4.39\n",
      "水平 4.39\n",
      "新增 4.39\n",
      "进展 4.39\n",
      "半壁江山 4.39\n",
      "技术 4.39\n",
      "产业 4.39\n",
      "增速 4.39\n",
      "创新 4.39\n",
      "农村 4.39\n",
      "人口 4.39\n",
      "全国 4.27\n",
      "生产总值 3.1\n",
      "我国 2.69\n",
      "社会 2.69\n",
      "运行 2.69\n",
      "万众创新 2.4\n",
      "C919 2.4\n",
      "过去 2.2\n",
      "重大 2.19\n",
      "面临 2.0\n",
      "挑战 2.0\n",
      "同志 2.0\n",
      "总书记 2.0\n",
      "党中央 2.0\n",
      "领导 2.0\n",
      "信心 2.0\n",
      "勇气 2.0\n",
      "开拓进取 2.0\n",
      "稳中有进 2.0\n",
      "完成 2.0\n",
      "任务 2.0\n",
      "------------------------\n"
     ]
    }
   ],
   "source": [
    "import pynlpir\n",
    "\n",
    "s = '''过去一年，我国发展面临多重困难和严峻挑战。在以习近平同志为总书记的党中央坚强领导下，全国各族人民以坚定的信心和非凡的勇气，攻坚克难，开拓进取，经济社会发展稳中有进、稳中有好，完成了全年主要目标任务，改革开放和社会主义现代化建设取得新的重大成就。\n",
    "——经济运行保持在合理区间。国内生产总值达到67.7万亿元，增长6.9%，在世界主要经济体中位居前列。粮食产量实现\"十二连增\"，居民消费价格涨幅保持较低水平。特别是就业形势总体稳定，城镇新增就业1312万人，超过全年预期目标，成为经济运行的一大亮点。\n",
    "——结构调整取得积极进展。服务业在国内生产总值中的比重上升到50.5%，首次占据\"半壁江山\"。消费对经济增长的贡献率达到66.4%。高技术产业和装备制造业增速快于一般工业。单位国内生产总值能耗下降5.6%。\n",
    "——发展新动能加快成长。创新驱动发展战略持续推进，互联网与各行业加速融合，新兴产业快速增长。大众创业、万众创新蓬勃发展，全年新登记注册企业增长21.6%，平均每天新增1.2万户。新动能对稳就业、促升级发挥了突出作用，正在推动经济社会发生深刻变革。\n",
    "——人民生活进一步改善。全国居民人均可支配收入实际增长7.4%，快于经济增速。去年末居民储蓄存款余额增长8.5%，新增4万多亿元。又解决6434万农村人口饮水安全问题。扶贫攻坚力度加大，农村贫困人口减少1442万人。\n",
    "科技领域一批创新成果达到国际先进水平，第三代核电技术取得重大进展，国产C919大型客机总装下线，屠呦呦获得诺贝尔生理学或医学奖。对我国发展取得的成就，全国各族人民倍感振奋和自豪！'''\n",
    "\n",
    "##用pynlpir自带的关键词提取方法 get_key_words，提取出关键词\n",
    "tags = pynlpir.get_key_words(s, weighted=True)\n",
    "\n",
    "##把提取出的关键词打印出来\n",
    "for tag in tags:\n",
    "    print tag[0],tag[1]\n",
    "    \n",
    "## 这里是分割线\n",
    "print \"------------------------\"\n",
    "\n",
    "##提取文件里的关键词   \n",
    "# print pynlpir.nlpir.GetFileKeyWords(u\"H:\\\\两会提案\\\\政协\\\\all.txt\", 100, True)"
   ]
  },
  {
   "cell_type": "code",
   "execution_count": 13,
   "metadata": {},
   "outputs": [
    {
     "name": "stdout",
     "output_type": "stream",
     "text": [
      "\n"
     ]
    }
   ],
   "source": [
    "print pynlpir.nlpir.GetFileKeyWords(\"H:\\\\两会提案\\\\人大\\\\all.txt\", 100, True)"
   ]
  },
  {
   "cell_type": "markdown",
   "metadata": {},
   "source": [
    "## 5、文件分词"
   ]
  },
  {
   "cell_type": "code",
   "execution_count": 6,
   "metadata": {},
   "outputs": [
    {
     "data": {
      "text/plain": [
       "1573.9599765461687"
      ]
     },
     "execution_count": 6,
     "metadata": {},
     "output_type": "execute_result"
    }
   ],
   "source": [
    "pynlpir.nlpir.FileProcess(\"gov_report.txt\",\"gov_output.txt\",True)\n",
    "#pynlpir.nlpir.GetFileKeyWords(filename, max_words=50, weighted=False)"
   ]
  },
  {
   "cell_type": "markdown",
   "metadata": {},
   "source": [
    "## 6、获取新词"
   ]
  },
  {
   "cell_type": "code",
   "execution_count": 3,
   "metadata": {},
   "outputs": [
    {
     "name": "stdout",
     "output_type": "stream",
     "text": [
      "<class 'str'>\n"
     ]
    },
    {
     "ename": "ArgumentError",
     "evalue": "argument 1: <class 'TypeError'>: wrong type",
     "output_type": "error",
     "traceback": [
      "\u001b[1;31m---------------------------------------------------------------------------\u001b[0m",
      "\u001b[1;31mArgumentError\u001b[0m                             Traceback (most recent call last)",
      "\u001b[1;32m<ipython-input-3-e4b80edd7d03>\u001b[0m in \u001b[0;36m<module>\u001b[1;34m()\u001b[0m\n\u001b[0;32m      5\u001b[0m \u001b[1;31m##提取字符串里的新词\u001b[0m\u001b[1;33m\u001b[0m\u001b[1;33m\u001b[0m\u001b[0m\n\u001b[0;32m      6\u001b[0m \u001b[0mprint\u001b[0m\u001b[1;33m(\u001b[0m\u001b[0mtype\u001b[0m\u001b[1;33m(\u001b[0m\u001b[0ms\u001b[0m\u001b[1;33m)\u001b[0m\u001b[1;33m)\u001b[0m\u001b[1;33m\u001b[0m\u001b[0m\n\u001b[1;32m----> 7\u001b[1;33m \u001b[0mprint\u001b[0m\u001b[1;33m(\u001b[0m\u001b[0mpynlpir\u001b[0m\u001b[1;33m.\u001b[0m\u001b[0mnlpir\u001b[0m\u001b[1;33m.\u001b[0m\u001b[0mGetNewWords\u001b[0m\u001b[1;33m(\u001b[0m\u001b[0ms\u001b[0m\u001b[1;33m,\u001b[0m \u001b[1;36m50\u001b[0m\u001b[1;33m,\u001b[0m \u001b[1;32mFalse\u001b[0m\u001b[1;33m)\u001b[0m\u001b[1;33m)\u001b[0m\u001b[1;33m\u001b[0m\u001b[0m\n\u001b[0m\u001b[0;32m      8\u001b[0m \u001b[1;33m\u001b[0m\u001b[0m\n\u001b[0;32m      9\u001b[0m \u001b[1;31m## 这里是分割线\u001b[0m\u001b[1;33m\u001b[0m\u001b[1;33m\u001b[0m\u001b[0m\n",
      "\u001b[1;31mArgumentError\u001b[0m: argument 1: <class 'TypeError'>: wrong type"
     ]
    }
   ],
   "source": [
    "s = '''【别动不动就说手机致癌，并没有证据支持】人们普遍认为手机释放的高频辐射会增加癌症尤其是脑癌的发生率，科学家因此\n",
    "做了手机与脑癌关系的调查与研究，发现二者之间并没有必然的联系，而且近些年脑癌的发病率反倒下降了，\n",
    "其实手机释放的是非电离辐射，这通常不会破坏DNA，因此手机不会引发脑癌。...'''\n",
    "\n",
    "##提取字符串里的新词\n",
    "print(type(s))\n",
    "print(pynlpir.nlpir.GetNewWords(s, 50, False))\n",
    "\n",
    "## 这里是分割线\n",
    "print(\"------------------------\")\n",
    "\n",
    "##提取文件里的新词\n",
    "# print pynlpir.nlpir.GetFileNewWords(\"gov_report.txt\", 50, False)"
   ]
  },
  {
   "cell_type": "code",
   "execution_count": 14,
   "metadata": {},
   "outputs": [
    {
     "name": "stdout",
     "output_type": "stream",
     "text": [
      "实体经济/n_new/205.48/620#精准/n_new/152.16/627#引领/n_new/129.06/389#脱贫攻坚/n_new/114.10/264#精准扶贫/n_new/113.11/257#互联网+/n_new/106.38/179#基础设施建设/n_new/105.20/342#电动自行车/n_new/95.69/160#转移支付/n_new/93.44/327#中小微企业/n_new/90.38/144#转型升级/n_new/90.26/329#履职/n_new/88.24/255#生态文明建设/n_new/86.29/165#国家层面/n_new/84.79/353#防控/n_new/78.29/151#军民融合/n_new/75.64/135#民法总则/n_new/73.70/453#清洁能源/n_new/72.76/101#传统村落/n_new/72.08/102#不良资产/n_new/70.27/177#大气污染防治/n_new/68.57/115#工匠精神/n_new/67.20/144#光伏/n_new/67.17/178#留守儿童/n_new/63.48/122#民法典/n_new/63.30/188#债转股/n_new/62.64/72#医养结合/n_new/60.64/116#校园欺凌/n_new/59.74/112#行业协会/n_new/58.75/102#司法解释/n_new/58.33/104#顶层设计/n_new/54.52/237#网购/n_new/53.96/52#协同发展/n_new/53.40/188#节能减排/n_new/53.32/83#特色小镇/n_new/52.29/101#彰显/n_new/51.64/136#补齐/n_new/51.10/55#城市群/n_new/50.82/86#欠发达地区/n_new/50.69/76#社会主义核心价值观/n_new/50.56/118#创新驱动/n_new/49.88/175#居家养老服务/n_new/49.52/72#金融不良资产/n_new/49.42/86#装配式建筑/n_new/48.82/50#红色旅游/n_new/48.80/58#秸秆焚烧/n_new/48.61/58#铅蓄电池/n_new/48.56/75#轨道交通/n_new/48.09/85#休闲农业/n_new/48.04/83#社区矫正/n_new/47.66/106#特高压/n_new/47.57/82#智库/n_new/47.41/48#消纳/n_new/47.25/64#参保/n_new/46.48/97#申遗/n_new/46.34/55#高职院校/n_new/46.25/48#创客/n_new/45.91/65#电信诈骗/n_new/45.79/64#营改增/n_new/45.40/101#综合管廊/n_new/45.10/83#民间借贷/n_new/44.82/46#民俗文化/n_new/44.68/53#诉讼时效/n_new/44.46/74#物联网/n_new/44.33/58#僵尸企业/n_new/44.12/47#供给侧/n_new/43.84/573#分级诊疗/n_new/43.54/74#区域性股权市场/n_new/43.37/59#生物质/n_new/43.17/167#天然橡胶/n_new/42.35/58#长江经济带/n_new/42.35/77#追责/n_new/41.27/55#国有林场/n_new/40.92/43#倒逼/n_new/39.99/43#苗药/n_new/39.96/37#公示/n_new/39.79/60#创新驱动发展/n_new/39.42/90#民法总则草案/n_new/39.38/226#农民专业合作社/n_new/39.34/44#海绵城市/n_new/39.17/86#互联互通/n_new/39.07/83#缴费基数/n_new/38.78/127#调峰/n_new/38.72/39#农产品批发市场/n_new/38.64/44#编纂民法典/n_new/38.50/72#城市轨道交通/n_new/38.22/36#房产税/n_new/38.18/46#中国梦/n_new/38.02/73#诉求/n_new/37.99/66#返乡创业/n_new/37.39/57#公平正义/n_new/36.97/78#薪酬/n_new/36.62/64#海绵城市建设/n_new/36.56/47#农家书屋/n_new/36.54/30#云计算/n_new/36.33/85#农村集体经济组织/n_new/36.27/35#共享单车/n_new/35.95/37#科学仪器/n_new/35.94/69#习总书记/n_new/35.72/84#燃料乙醇/n_new/35.60/44#\n"
     ]
    }
   ],
   "source": [
    "print pynlpir.nlpir.GetFileNewWords(\"gov_report.txt\", 100, True)"
   ]
  },
  {
   "cell_type": "markdown",
   "metadata": {},
   "source": [
    "## 6、统计词频"
   ]
  },
  {
   "cell_type": "code",
   "execution_count": 9,
   "metadata": {
    "collapsed": true
   },
   "outputs": [],
   "source": [
    "import nltk"
   ]
  },
  {
   "cell_type": "code",
   "execution_count": 10,
   "metadata": {},
   "outputs": [
    {
     "name": "stdout",
     "output_type": "stream",
     "text": [
      "， 26\n",
      "。 21\n",
      "的 8\n",
      "增长 6\n",
      "发展 6\n",
      "经济 6\n",
      "和 5\n",
      "在 5\n",
      "新 5\n",
      "\n",
      "—— 4\n",
      "\" 4\n",
      "取得 4\n",
      "一 3\n",
      "国内 3\n",
      "生产总值 3\n",
      "全年 3\n",
      "对 3\n",
      "全国 3\n",
      "创新 3\n",
      "就业 3\n"
     ]
    }
   ],
   "source": [
    "import pynlpir\n",
    "\n",
    "sentence = '''过去一年，我国发展面临多重困难和严峻挑战。在以习近平同志为总书记的党中央坚强领导下，全国各族人民以坚定的信心和非凡的勇气，攻坚克难，开拓进取，经济社会发展稳中有进、稳中有好，完成了全年主要目标任务，改革开放和社会主义现代化建设取得新的重大成就。\n",
    "——经济运行保持在合理区间。国内生产总值达到67.7万亿元，增长6.9%，在世界主要经济体中位居前列。粮食产量实现\"十二连增\"，居民消费价格涨幅保持较低水平。特别是就业形势总体稳定，城镇新增就业1312万人，超过全年预期目标，成为经济运行的一大亮点。\n",
    "——结构调整取得积极进展。服务业在国内生产总值中的比重上升到50.5%，首次占据\"半壁江山\"。消费对经济增长的贡献率达到66.4%。高技术产业和装备制造业增速快于一般工业。单位国内生产总值能耗下降5.6%。\n",
    "——发展新动能加快成长。创新驱动发展战略持续推进，互联网与各行业加速融合，新兴产业快速增长。大众创业、万众创新蓬勃发展，全年新登记注册企业增长21.6%，平均每天新增1.2万户。新动能对稳就业、促升级发挥了突出作用，正在推动经济社会发生深刻变革。\n",
    "——人民生活进一步改善。全国居民人均可支配收入实际增长7.4%，快于经济增速。去年末居民储蓄存款余额增长8.5%，新增4万多亿元。又解决6434万农村人口饮水安全问题。扶贫攻坚力度加大，农村贫困人口减少1442万人。\n",
    "科技领域一批创新成果达到国际先进水平，第三代核电技术取得重大进展，国产C919大型客机总装下线，屠呦呦获得诺贝尔生理学或医学奖。对我国发展取得的成就，全国各族人民倍感振奋和自豪！'''\n",
    "\n",
    "##切词\n",
    "seg_list = pynlpir.segment(sentence,pos_tagging=False)\n",
    "\n",
    "##用nltk的FreqDist统计每个词的词频\n",
    "freq = nltk.FreqDist(seg_list)\n",
    "\n",
    "##打印出词频最高的n个词\n",
    "n = 20\n",
    "for (w,f) in freq.most_common(n):\n",
    "    print w,f\n"
   ]
  },
  {
   "cell_type": "markdown",
   "metadata": {},
   "source": [
    "## 7、去掉停用词，统计词频"
   ]
  },
  {
   "cell_type": "code",
   "execution_count": 15,
   "metadata": {},
   "outputs": [
    {
     "name": "stdout",
     "output_type": "stream",
     "text": [
      "<type 'str'>\n",
      "增长 6\n",
      "发展 6\n",
      "经济 6\n",
      "新 5\n",
      "取得 4\n",
      "国内 3\n",
      "生产总值 3\n",
      "全年 3\n",
      "全国 3\n",
      "就业 3\n"
     ]
    }
   ],
   "source": [
    "import pynlpir\n",
    "import nltk\n",
    "\n",
    "sentence = '''过去一年，我国发展面临多重困难和严峻挑战。在以习近平同志为总书记的党中央坚强领导下，全国各族人民以坚定的信心和非凡的勇气，攻坚克难，开拓进取，经济社会发展稳中有进、稳中有好，完成了全年主要目标任务，改革开放和社会主义现代化建设取得新的重大成就。——经济运行保持在合理区间。国内生产总值达到67.7万亿元，增长6.9%，在世界主要经济体中位居前列。粮食产量实现\"十二连增\"，居民消费价格涨幅保持较低水平。特别是就业形势总体稳定，城镇新增就业1312万人，超过全年预期目标，成为经济运行的一大亮点。\n",
    "——结构调整取得积极进展。服务业在国内生产总值中的比重上升到50.5%，首次占据\"半壁江山\"。消费对经济增长的贡献率达到66.4%。高技术产业和装备制造业增速快于一般工业。单位国内生产总值能耗下降5.6%。——发展新动能加快成长。创新驱动发展战略持续推进，互联网与各行业加速融合，新兴产业快速增长。大众创业、万众创新蓬勃发展，全年新登记注册企业增长21.6%，平均每天新增1.2万户。新动能对稳就业、促升级发挥了突出作用，正在推动经济社会发生深刻变革。\n",
    "——人民生活进一步改善。全国居民人均可支配收入实际增长7.4%，快于经济增速。去年末居民储蓄存款余额增长8.5%，新增4万多亿元。又解决6434万农村人口饮水安全问题。扶贫攻坚力度加大，农村贫困人口减少1442万人。\n",
    "科技领域一批创新成果达到国际先进水平，第三代核电技术取得重大进展，国产C919大型客机总装下线，屠呦呦获得诺贝尔生理学或医学奖。对我国发展取得的成就，全国各族人民倍感振奋和自豪！'''\n",
    "\n",
    "print type(sentence)\n",
    "##切词\n",
    "seg_list = pynlpir.segment(sentence,pos_tagging=False)\n",
    "\n",
    "##创建容器\n",
    "removed_seg_list = []\n",
    "stopwords = []\n",
    "\n",
    "##生成停用词列表\n",
    "for line in open(\"stopwords.txt\").readlines():\n",
    "    stopwords.append(line.strip())   ##.strip()  去掉换行符\n",
    "    \n",
    "## 过滤停用词\n",
    "for w in seg_list:\n",
    "    if w.encode(\"utf8\") not in stopwords:\n",
    "        removed_seg_list.append(w)\n",
    "        \n",
    "## 用nltk的FreqDist来统计词频\n",
    "freq = nltk.FreqDist(removed_seg_list)\n",
    "\n",
    "##打印出词频最高的n个词\n",
    "n = 10\n",
    "for (w,f) in freq.most_common(n):\n",
    "    print w,f"
   ]
  },
  {
   "cell_type": "code",
   "execution_count": null,
   "metadata": {
    "collapsed": true
   },
   "outputs": [],
   "source": []
  }
 ],
 "metadata": {
  "kernelspec": {
   "display_name": "Python 3",
   "language": "python",
   "name": "python3"
  }
 },
 "nbformat": 4,
 "nbformat_minor": 1
}
