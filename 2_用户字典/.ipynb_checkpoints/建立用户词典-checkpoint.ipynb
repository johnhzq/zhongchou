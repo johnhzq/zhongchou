{
 "cells": [
  {
   "cell_type": "code",
   "execution_count": 1,
   "metadata": {
    "collapsed": true
   },
   "outputs": [],
   "source": [
    "inPutDir = 'inPut/'\n",
    "outPutDir = 'outPut/'"
   ]
  },
  {
   "cell_type": "markdown",
   "metadata": {},
   "source": [
    "### 1、取数据"
   ]
  },
  {
   "cell_type": "code",
   "execution_count": 4,
   "metadata": {
    "scrolled": true
   },
   "outputs": [
    {
     "name": "stdout",
     "output_type": "stream",
     "text": [
      "(1137, 5)\n"
     ]
    },
    {
     "data": {
      "text/html": [
       "<div>\n",
       "<style>\n",
       "    .dataframe thead tr:only-child th {\n",
       "        text-align: right;\n",
       "    }\n",
       "\n",
       "    .dataframe thead th {\n",
       "        text-align: left;\n",
       "    }\n",
       "\n",
       "    .dataframe tbody tr th {\n",
       "        vertical-align: top;\n",
       "    }\n",
       "</style>\n",
       "<table border=\"1\" class=\"dataframe\">\n",
       "  <thead>\n",
       "    <tr style=\"text-align: right;\">\n",
       "      <th></th>\n",
       "      <th>time</th>\n",
       "      <th>_no</th>\n",
       "      <th>_EMW</th>\n",
       "      <th>label</th>\n",
       "      <th>document</th>\n",
       "    </tr>\n",
       "  </thead>\n",
       "  <tbody>\n",
       "    <tr>\n",
       "      <th>0</th>\n",
       "      <td>1433150298</td>\n",
       "      <td>110100</td>\n",
       "      <td>1</td>\n",
       "      <td>果蔬食品</td>\n",
       "      <td>一人一元，寻找身边放心大米为了我们和家人能吃上放心大米,将筹到的资金,委托中国首家放心食品甄...</td>\n",
       "    </tr>\n",
       "    <tr>\n",
       "      <th>1</th>\n",
       "      <td>1435059060</td>\n",
       "      <td>110100</td>\n",
       "      <td>1</td>\n",
       "      <td>茶酒饮品</td>\n",
       "      <td>《不知名茶3》长白山脉已被我们承包，只差你这个森林之王从1000座山到整片森林，包山（林）种...</td>\n",
       "    </tr>\n",
       "    <tr>\n",
       "      <th>2</th>\n",
       "      <td>1432894713</td>\n",
       "      <td>110100</td>\n",
       "      <td>1</td>\n",
       "      <td>果蔬食品</td>\n",
       "      <td>【黑鸡枞教父众筹】聆听吃出的健康传奇金泓言用他30年的心血，投入到昔日的皇家贡品黑鸡枞的研发...</td>\n",
       "    </tr>\n",
       "    <tr>\n",
       "      <th>3</th>\n",
       "      <td>1478257937</td>\n",
       "      <td>230000</td>\n",
       "      <td>2</td>\n",
       "      <td>五常#稻花香#三株稻</td>\n",
       "      <td>舌尖上的五常稻花香米，“三株稻”品质良心米（众筹第二期）三年，我们联合了80余家稻农，精耕了...</td>\n",
       "    </tr>\n",
       "    <tr>\n",
       "      <th>4</th>\n",
       "      <td>1445414025</td>\n",
       "      <td>230000</td>\n",
       "      <td>2</td>\n",
       "      <td>生态养殖#五常大米#正宗大米</td>\n",
       "      <td>舌尖上的五常稻花香米，“三株稻”品质良心米带动乡里乡亲致富的同时，把这正宗的五常米，直接送到...</td>\n",
       "    </tr>\n",
       "  </tbody>\n",
       "</table>\n",
       "</div>"
      ],
      "text/plain": [
       "         time     _no  _EMW           label  \\\n",
       "0  1433150298  110100     1            果蔬食品   \n",
       "1  1435059060  110100     1            茶酒饮品   \n",
       "2  1432894713  110100     1            果蔬食品   \n",
       "3  1478257937  230000     2      五常#稻花香#三株稻   \n",
       "4  1445414025  230000     2  生态养殖#五常大米#正宗大米   \n",
       "\n",
       "                                            document  \n",
       "0  一人一元，寻找身边放心大米为了我们和家人能吃上放心大米,将筹到的资金,委托中国首家放心食品甄...  \n",
       "1  《不知名茶3》长白山脉已被我们承包，只差你这个森林之王从1000座山到整片森林，包山（林）种...  \n",
       "2  【黑鸡枞教父众筹】聆听吃出的健康传奇金泓言用他30年的心血，投入到昔日的皇家贡品黑鸡枞的研发...  \n",
       "3  舌尖上的五常稻花香米，“三株稻”品质良心米（众筹第二期）三年，我们联合了80余家稻农，精耕了...  \n",
       "4  舌尖上的五常稻花香米，“三株稻”品质良心米带动乡里乡亲致富的同时，把这正宗的五常米，直接送到...  "
      ]
     },
     "execution_count": 4,
     "metadata": {},
     "output_type": "execute_result"
    }
   ],
   "source": [
    "import pandas as pd\n",
    "pd.set_option('display.max_columns', None)\n",
    "\n",
    "dataFile = inPutDir+'DocumentS.txt'\n",
    "f = open(dataFile,encoding='utf8')\n",
    "DocumentS = pd.read_table(f,sep='|')\n",
    "f.close()\n",
    "print(DocumentS.shape)\n",
    "DocumentS.head()"
   ]
  },
  {
   "cell_type": "markdown",
   "metadata": {},
   "source": [
    "### 2、pynlpir提取新词"
   ]
  },
  {
   "cell_type": "code",
   "execution_count": 56,
   "metadata": {},
   "outputs": [
    {
     "name": "stdout",
     "output_type": "stream",
     "text": [
      "新词总数： 1178\n"
     ]
    }
   ],
   "source": [
    "import pynlpir\n",
    "pynlpir.open(encoding=\"utf8\")\n",
    "\n",
    "NewWords = DocumentS.document.apply(lambda doc: set(pynlpir.nlpir.GetNewWords(doc.encode('utf8'), 100,  False).decode('utf8').split('#')))\n",
    "newWords = set()\n",
    "for item in NewWords:\n",
    "    newWords = newWords|item\n",
    "print('新词总数：',len(newWords))"
   ]
  },
  {
   "cell_type": "code",
   "execution_count": 57,
   "metadata": {},
   "outputs": [
    {
     "data": {
      "text/html": [
       "<div>\n",
       "<style>\n",
       "    .dataframe thead tr:only-child th {\n",
       "        text-align: right;\n",
       "    }\n",
       "\n",
       "    .dataframe thead th {\n",
       "        text-align: left;\n",
       "    }\n",
       "\n",
       "    .dataframe tbody tr th {\n",
       "        vertical-align: top;\n",
       "    }\n",
       "</style>\n",
       "<table border=\"1\" class=\"dataframe\">\n",
       "  <thead>\n",
       "    <tr style=\"text-align: right;\">\n",
       "      <th></th>\n",
       "      <th>w</th>\n",
       "      <th>len</th>\n",
       "    </tr>\n",
       "  </thead>\n",
       "  <tbody>\n",
       "    <tr>\n",
       "      <th>0</th>\n",
       "      <td></td>\n",
       "      <td>0</td>\n",
       "    </tr>\n",
       "    <tr>\n",
       "      <th>1</th>\n",
       "      <td>药用价值</td>\n",
       "      <td>4</td>\n",
       "    </tr>\n",
       "    <tr>\n",
       "      <th>2</th>\n",
       "      <td>现摘嵩山蜜桃</td>\n",
       "      <td>6</td>\n",
       "    </tr>\n",
       "    <tr>\n",
       "      <th>3</th>\n",
       "      <td>茶介绍</td>\n",
       "      <td>3</td>\n",
       "    </tr>\n",
       "    <tr>\n",
       "      <th>4</th>\n",
       "      <td>桥子</td>\n",
       "      <td>2</td>\n",
       "    </tr>\n",
       "  </tbody>\n",
       "</table>\n",
       "</div>"
      ],
      "text/plain": [
       "        w  len\n",
       "0            0\n",
       "1    药用价值    4\n",
       "2  现摘嵩山蜜桃    6\n",
       "3     茶介绍    3\n",
       "4      桥子    2"
      ]
     },
     "execution_count": 57,
     "metadata": {},
     "output_type": "execute_result"
    }
   ],
   "source": [
    "newWords_DF = pd.DataFrame(list(newWords),columns=['w'])\n",
    "newWords_DF['len'] = newWords_DF.w.apply(lambda w: len(w))\n",
    "newWords_DF.head()"
   ]
  },
  {
   "cell_type": "code",
   "execution_count": 63,
   "metadata": {},
   "outputs": [
    {
     "name": "stdout",
     "output_type": "stream",
     "text": [
      "(1017, 2)\n"
     ]
    },
    {
     "data": {
      "text/html": [
       "<div>\n",
       "<style>\n",
       "    .dataframe thead tr:only-child th {\n",
       "        text-align: right;\n",
       "    }\n",
       "\n",
       "    .dataframe thead th {\n",
       "        text-align: left;\n",
       "    }\n",
       "\n",
       "    .dataframe tbody tr th {\n",
       "        vertical-align: top;\n",
       "    }\n",
       "</style>\n",
       "<table border=\"1\" class=\"dataframe\">\n",
       "  <thead>\n",
       "    <tr style=\"text-align: right;\">\n",
       "      <th></th>\n",
       "      <th>w</th>\n",
       "      <th>len</th>\n",
       "    </tr>\n",
       "  </thead>\n",
       "  <tbody>\n",
       "    <tr>\n",
       "      <th>1</th>\n",
       "      <td>药用价值</td>\n",
       "      <td>4</td>\n",
       "    </tr>\n",
       "    <tr>\n",
       "      <th>3</th>\n",
       "      <td>茶介绍</td>\n",
       "      <td>3</td>\n",
       "    </tr>\n",
       "    <tr>\n",
       "      <th>4</th>\n",
       "      <td>桥子</td>\n",
       "      <td>2</td>\n",
       "    </tr>\n",
       "    <tr>\n",
       "      <th>5</th>\n",
       "      <td>爱心支持</td>\n",
       "      <td>4</td>\n",
       "    </tr>\n",
       "    <tr>\n",
       "      <th>6</th>\n",
       "      <td>螃蟹一</td>\n",
       "      <td>3</td>\n",
       "    </tr>\n",
       "  </tbody>\n",
       "</table>\n",
       "</div>"
      ],
      "text/plain": [
       "      w  len\n",
       "1  药用价值    4\n",
       "3   茶介绍    3\n",
       "4    桥子    2\n",
       "5  爱心支持    4\n",
       "6   螃蟹一    3"
      ]
     },
     "execution_count": 63,
     "metadata": {},
     "output_type": "execute_result"
    }
   ],
   "source": [
    "out = newWords_DF[(newWords_DF['len']>1) & (newWords_DF['len']<5)]\n",
    "print(out.shape)\n",
    "out.head()"
   ]
  },
  {
   "cell_type": "markdown",
   "metadata": {},
   "source": [
    "#### 保存"
   ]
  },
  {
   "cell_type": "code",
   "execution_count": 62,
   "metadata": {
    "collapsed": true
   },
   "outputs": [],
   "source": [
    "dictFile = open(outPutDir+\"myDict.txt\", \"w\",encoding='utf8')\n",
    "str_NewWords = \"\\n\".join(list(out.w))\n",
    "dictFile.write(str_NewWords)\n",
    "dictFile.close()"
   ]
  },
  {
   "cell_type": "code",
   "execution_count": null,
   "metadata": {
    "collapsed": true
   },
   "outputs": [],
   "source": []
  }
 ],
 "metadata": {
  "kernelspec": {
   "display_name": "Python 3",
   "language": "python",
   "name": "python3"
  },
  "language_info": {
   "codemirror_mode": {
    "name": "ipython",
    "version": 3
   },
   "file_extension": ".py",
   "mimetype": "text/x-python",
   "name": "python",
   "nbconvert_exporter": "python",
   "pygments_lexer": "ipython3",
   "version": "3.6.3"
  }
 },
 "nbformat": 4,
 "nbformat_minor": 2
}
